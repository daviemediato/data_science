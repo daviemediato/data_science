{
 "cells": [
  {
   "cell_type": "markdown",
   "id": "c09aaa9d",
   "metadata": {},
   "source": [
    "# Introdução ao Scikit Learn\n",
    "\n",
    "Scikit-learn (Sklearn) é uma biblioteca voltada para o campo de `machine learning` em `Python`. Assim, a mesma possui diversas funcionalidas já prontas para uso em machine learning e estatística, incluindo classificação, regressão, clustering e mais.\n",
    "\n",
    "Este notebook tem como foco apenas alguns estudos envolvendo alguns conceitos básicos de aprendizado de máquina e ao sklearn."
   ]
  },
  {
   "cell_type": "markdown",
   "id": "db6aa804",
   "metadata": {},
   "source": [
    "## Importações\n",
    "\n",
    "   - [pandas](https://pandas.pydata.org/): biblioteca voltada para manipulação e análise de dados em Python.\n",
    "   - [datetime](https://docs.python.org/3/library/datetime.html): modulo para tratar estrutura de dados envolvendo tempo.\n",
    "   - [numpy](https://numpy.org/): biblioteca para matemática avançada em Python.\n",
    "   - [sklearn](https://scikit-learn.org/stable/): biblioteca para aprendizado de máquina em Python.\n",
    "   - [warnings](https://docs.python.org/3/library/warnings.html): para ignorar alguns warnings sendo exibidos."
   ]
  },
  {
   "cell_type": "code",
   "execution_count": 1,
   "id": "48223211",
   "metadata": {},
   "outputs": [],
   "source": [
    "import pandas as pd\n",
    "import numpy as np\n",
    "import warnings\n",
    "warnings.filterwarnings('ignore')\n",
    "from sklearn.dummy import DummyClassifier\n",
    "from sklearn.model_selection import train_test_split\n",
    "from sklearn.svm import LinearSVC\n",
    "from sklearn.svm import SVC\n",
    "from sklearn.preprocessing import StandardScaler\n",
    "from sklearn.tree import DecisionTreeClassifier\n",
    "from sklearn.metrics import accuracy_score\n",
    "from datetime import datetime"
   ]
  },
  {
   "cell_type": "markdown",
   "id": "fdedfc24",
   "metadata": {},
   "source": [
    "## Base da dados\n",
    "\n",
    "Usaremos uma base de dados disponibilizada nesse [link](https://gist.githubusercontent.com/guilhermesilveira/4d1d4a16ccbf6ea4e0a64a38a24ec884/raw/afd05cb0c796d18f3f5a6537053ded308ba94bf7/car-prices.csv).\n",
    "\n",
    "Este arquivo será importando para uma estrutura `DataFrame` utilizando a biblioteca `pandas` a fim de possibilitar sua manipulação e análise."
   ]
  },
  {
   "cell_type": "code",
   "execution_count": 2,
   "id": "3d3303ef",
   "metadata": {},
   "outputs": [],
   "source": [
    "# obtendo o data frame\n",
    "uri = \"https://gist.githubusercontent.com/guilhermesilveira/4d1d4a16ccbf6ea4e0a64a38a24ec884/raw/afd05cb0c796d18f3f5a6537053ded308ba94bf7/car-prices.csv\"\n",
    "df = pd.read_csv(uri)"
   ]
  },
  {
   "cell_type": "markdown",
   "id": "b903676d",
   "metadata": {},
   "source": [
    "## Análise dos dados\n",
    "\n",
    "A primeira coisa que faremos após importar o dataset será examinar as dimensões do DataFrame e as primeiras entradas. Isso possibilitará criar uma consciência situacional inicial a respeito do formato de entrada e da estrutura geral dos dados."
   ]
  },
  {
   "cell_type": "code",
   "execution_count": 3,
   "id": "cb4be0b3",
   "metadata": {},
   "outputs": [
    {
     "name": "stdout",
     "output_type": "stream",
     "text": [
      "DIMENSÕES DO DATAFRAME:\n",
      "Linhas:\t\t10000\n",
      "Colunas:\t5\n"
     ]
    }
   ],
   "source": [
    "# dimensões do df\n",
    "print(\"DIMENSÕES DO DATAFRAME:\")\n",
    "print(\"Linhas:\\t\\t{}\".format(df.shape[0]))\n",
    "print(\"Colunas:\\t{}\".format(df.shape[1]))"
   ]
  },
  {
   "cell_type": "markdown",
   "id": "b6809131",
   "metadata": {},
   "source": [
    "Já as primeiras 5 entradas desse conjunto de dados permitem adquirirmos uma noção inicial sobre o tipo de formato, exemplos de entrada e formulação das hipóteses iniciais do processo investigativo."
   ]
  },
  {
   "cell_type": "code",
   "execution_count": 4,
   "id": "11052eac",
   "metadata": {},
   "outputs": [
    {
     "data": {
      "text/html": [
       "<div>\n",
       "<style scoped>\n",
       "    .dataframe tbody tr th:only-of-type {\n",
       "        vertical-align: middle;\n",
       "    }\n",
       "\n",
       "    .dataframe tbody tr th {\n",
       "        vertical-align: top;\n",
       "    }\n",
       "\n",
       "    .dataframe thead th {\n",
       "        text-align: right;\n",
       "    }\n",
       "</style>\n",
       "<table border=\"1\" class=\"dataframe\">\n",
       "  <thead>\n",
       "    <tr style=\"text-align: right;\">\n",
       "      <th></th>\n",
       "      <th>Unnamed: 0</th>\n",
       "      <th>mileage_per_year</th>\n",
       "      <th>model_year</th>\n",
       "      <th>price</th>\n",
       "      <th>sold</th>\n",
       "    </tr>\n",
       "  </thead>\n",
       "  <tbody>\n",
       "    <tr>\n",
       "      <th>0</th>\n",
       "      <td>0</td>\n",
       "      <td>21801</td>\n",
       "      <td>2000</td>\n",
       "      <td>30941.02</td>\n",
       "      <td>yes</td>\n",
       "    </tr>\n",
       "    <tr>\n",
       "      <th>1</th>\n",
       "      <td>1</td>\n",
       "      <td>7843</td>\n",
       "      <td>1998</td>\n",
       "      <td>40557.96</td>\n",
       "      <td>yes</td>\n",
       "    </tr>\n",
       "    <tr>\n",
       "      <th>2</th>\n",
       "      <td>2</td>\n",
       "      <td>7109</td>\n",
       "      <td>2006</td>\n",
       "      <td>89627.50</td>\n",
       "      <td>no</td>\n",
       "    </tr>\n",
       "    <tr>\n",
       "      <th>3</th>\n",
       "      <td>3</td>\n",
       "      <td>26823</td>\n",
       "      <td>2015</td>\n",
       "      <td>95276.14</td>\n",
       "      <td>no</td>\n",
       "    </tr>\n",
       "    <tr>\n",
       "      <th>4</th>\n",
       "      <td>4</td>\n",
       "      <td>7935</td>\n",
       "      <td>2014</td>\n",
       "      <td>117384.68</td>\n",
       "      <td>yes</td>\n",
       "    </tr>\n",
       "  </tbody>\n",
       "</table>\n",
       "</div>"
      ],
      "text/plain": [
       "   Unnamed: 0  mileage_per_year  model_year      price sold\n",
       "0           0             21801        2000   30941.02  yes\n",
       "1           1              7843        1998   40557.96  yes\n",
       "2           2              7109        2006   89627.50   no\n",
       "3           3             26823        2015   95276.14   no\n",
       "4           4              7935        2014  117384.68  yes"
      ]
     },
     "execution_count": 4,
     "metadata": {},
     "output_type": "execute_result"
    }
   ],
   "source": [
    "# ver as 5 primeiras entradas\n",
    "df.head()"
   ]
  },
  {
   "cell_type": "markdown",
   "id": "9b8687fc",
   "metadata": {},
   "source": [
    "Vamos renomear os nomes das colunas do dataset para o português, buscando uma melhor entendibilidade."
   ]
  },
  {
   "cell_type": "code",
   "execution_count": 5,
   "id": "d1381c03",
   "metadata": {},
   "outputs": [
    {
     "data": {
      "text/html": [
       "<div>\n",
       "<style scoped>\n",
       "    .dataframe tbody tr th:only-of-type {\n",
       "        vertical-align: middle;\n",
       "    }\n",
       "\n",
       "    .dataframe tbody tr th {\n",
       "        vertical-align: top;\n",
       "    }\n",
       "\n",
       "    .dataframe thead th {\n",
       "        text-align: right;\n",
       "    }\n",
       "</style>\n",
       "<table border=\"1\" class=\"dataframe\">\n",
       "  <thead>\n",
       "    <tr style=\"text-align: right;\">\n",
       "      <th></th>\n",
       "      <th>id</th>\n",
       "      <th>milhas_por_ano</th>\n",
       "      <th>ano_do_modelo</th>\n",
       "      <th>preco</th>\n",
       "      <th>vendido</th>\n",
       "    </tr>\n",
       "  </thead>\n",
       "  <tbody>\n",
       "    <tr>\n",
       "      <th>0</th>\n",
       "      <td>0</td>\n",
       "      <td>21801</td>\n",
       "      <td>2000</td>\n",
       "      <td>30941.02</td>\n",
       "      <td>yes</td>\n",
       "    </tr>\n",
       "  </tbody>\n",
       "</table>\n",
       "</div>"
      ],
      "text/plain": [
       "   id  milhas_por_ano  ano_do_modelo     preco vendido\n",
       "0   0           21801           2000  30941.02     yes"
      ]
     },
     "execution_count": 5,
     "metadata": {},
     "output_type": "execute_result"
    }
   ],
   "source": [
    "# dicionário tendo coluna:nova_coluna\n",
    "novos_nomes = {\n",
    "    \"mileage_per_year\": \"milhas_por_ano\",\n",
    "    \"model_year\": \"ano_do_modelo\",\n",
    "    \"price\": \"preco\",\n",
    "    \"Unnamed: 0\": \"id\",\n",
    "    \"sold\": \"vendido\"\n",
    "}\n",
    "\n",
    "# renomeando\n",
    "df = df.rename(columns=novos_nomes)\n",
    "\n",
    "# exibindo\n",
    "df.head(1)"
   ]
  },
  {
   "cell_type": "markdown",
   "id": "98d175b5",
   "metadata": {},
   "source": [
    "Observando que a coluna `vendido` identificado como uma `classe/label`  possui como valores 'yes/no', vamos tratar para que seja 0 ou 1."
   ]
  },
  {
   "cell_type": "code",
   "execution_count": 6,
   "id": "f6e5965b",
   "metadata": {},
   "outputs": [
    {
     "data": {
      "text/html": [
       "<div>\n",
       "<style scoped>\n",
       "    .dataframe tbody tr th:only-of-type {\n",
       "        vertical-align: middle;\n",
       "    }\n",
       "\n",
       "    .dataframe tbody tr th {\n",
       "        vertical-align: top;\n",
       "    }\n",
       "\n",
       "    .dataframe thead th {\n",
       "        text-align: right;\n",
       "    }\n",
       "</style>\n",
       "<table border=\"1\" class=\"dataframe\">\n",
       "  <thead>\n",
       "    <tr style=\"text-align: right;\">\n",
       "      <th></th>\n",
       "      <th>id</th>\n",
       "      <th>milhas_por_ano</th>\n",
       "      <th>ano_do_modelo</th>\n",
       "      <th>preco</th>\n",
       "      <th>vendido</th>\n",
       "    </tr>\n",
       "  </thead>\n",
       "  <tbody>\n",
       "    <tr>\n",
       "      <th>0</th>\n",
       "      <td>0</td>\n",
       "      <td>21801</td>\n",
       "      <td>2000</td>\n",
       "      <td>30941.02</td>\n",
       "      <td>1</td>\n",
       "    </tr>\n",
       "    <tr>\n",
       "      <th>1</th>\n",
       "      <td>1</td>\n",
       "      <td>7843</td>\n",
       "      <td>1998</td>\n",
       "      <td>40557.96</td>\n",
       "      <td>1</td>\n",
       "    </tr>\n",
       "    <tr>\n",
       "      <th>2</th>\n",
       "      <td>2</td>\n",
       "      <td>7109</td>\n",
       "      <td>2006</td>\n",
       "      <td>89627.50</td>\n",
       "      <td>0</td>\n",
       "    </tr>\n",
       "  </tbody>\n",
       "</table>\n",
       "</div>"
      ],
      "text/plain": [
       "   id  milhas_por_ano  ano_do_modelo     preco  vendido\n",
       "0   0           21801           2000  30941.02        1\n",
       "1   1            7843           1998  40557.96        1\n",
       "2   2            7109           2006  89627.50        0"
      ]
     },
     "execution_count": 6,
     "metadata": {},
     "output_type": "execute_result"
    }
   ],
   "source": [
    "# dicionário tendo valor:nova_valor\n",
    "troca_vendido = {\n",
    "    'no': 0,\n",
    "    'yes': 1\n",
    "}\n",
    "\n",
    "# aplicando o map\n",
    "df.vendido = df.vendido.map(troca_vendido)\n",
    "\n",
    "# exibindo\n",
    "df.head(3)"
   ]
  },
  {
   "cell_type": "markdown",
   "id": "6f1b0500",
   "metadata": {},
   "source": [
    "Observando as colunas:\n",
    "    \n",
    "    milhas_por_ano\n",
    "    ano_do_modelo\n",
    "    preco\n",
    "\n",
    "Pode-se inferir que a partir delas pode-se obter novos dados, como, por exemplo, a idade do modelo em relação ao ano atual e também transformar milhas para kilometros."
   ]
  },
  {
   "cell_type": "code",
   "execution_count": 7,
   "id": "775f4514",
   "metadata": {},
   "outputs": [
    {
     "data": {
      "text/html": [
       "<div>\n",
       "<style scoped>\n",
       "    .dataframe tbody tr th:only-of-type {\n",
       "        vertical-align: middle;\n",
       "    }\n",
       "\n",
       "    .dataframe tbody tr th {\n",
       "        vertical-align: top;\n",
       "    }\n",
       "\n",
       "    .dataframe thead th {\n",
       "        text-align: right;\n",
       "    }\n",
       "</style>\n",
       "<table border=\"1\" class=\"dataframe\">\n",
       "  <thead>\n",
       "    <tr style=\"text-align: right;\">\n",
       "      <th></th>\n",
       "      <th>preco</th>\n",
       "      <th>vendido</th>\n",
       "      <th>idade_do_modelo</th>\n",
       "      <th>km_por_ano</th>\n",
       "    </tr>\n",
       "  </thead>\n",
       "  <tbody>\n",
       "    <tr>\n",
       "      <th>0</th>\n",
       "      <td>30941.02</td>\n",
       "      <td>1</td>\n",
       "      <td>21</td>\n",
       "      <td>35085.22134</td>\n",
       "    </tr>\n",
       "    <tr>\n",
       "      <th>1</th>\n",
       "      <td>40557.96</td>\n",
       "      <td>1</td>\n",
       "      <td>23</td>\n",
       "      <td>12622.05362</td>\n",
       "    </tr>\n",
       "    <tr>\n",
       "      <th>2</th>\n",
       "      <td>89627.50</td>\n",
       "      <td>0</td>\n",
       "      <td>15</td>\n",
       "      <td>11440.79806</td>\n",
       "    </tr>\n",
       "    <tr>\n",
       "      <th>3</th>\n",
       "      <td>95276.14</td>\n",
       "      <td>0</td>\n",
       "      <td>6</td>\n",
       "      <td>43167.32682</td>\n",
       "    </tr>\n",
       "    <tr>\n",
       "      <th>4</th>\n",
       "      <td>117384.68</td>\n",
       "      <td>1</td>\n",
       "      <td>7</td>\n",
       "      <td>12770.11290</td>\n",
       "    </tr>\n",
       "    <tr>\n",
       "      <th>5</th>\n",
       "      <td>55405.26</td>\n",
       "      <td>1</td>\n",
       "      <td>14</td>\n",
       "      <td>23594.53374</td>\n",
       "    </tr>\n",
       "  </tbody>\n",
       "</table>\n",
       "</div>"
      ],
      "text/plain": [
       "       preco  vendido  idade_do_modelo   km_por_ano\n",
       "0   30941.02        1               21  35085.22134\n",
       "1   40557.96        1               23  12622.05362\n",
       "2   89627.50        0               15  11440.79806\n",
       "3   95276.14        0                6  43167.32682\n",
       "4  117384.68        1                7  12770.11290\n",
       "5   55405.26        1               14  23594.53374"
      ]
     },
     "execution_count": 7,
     "metadata": {},
     "output_type": "execute_result"
    }
   ],
   "source": [
    "# busco o ano atual\n",
    "ano_atual = datetime.today().year\n",
    "\n",
    "# crio uma nova feature mais relevante\n",
    "df['idade_do_modelo'] = ano_atual - df.ano_do_modelo\n",
    "\n",
    "# outra feature mais relevante\n",
    "df['km_por_ano'] = df.milhas_por_ano*1.60934\n",
    "\n",
    "# removo as colunas destacadas\n",
    "df = df.drop(columns=['id', 'milhas_por_ano', 'ano_do_modelo'], axis=1)\n",
    "\n",
    "# exibo\n",
    "df.head(6)"
   ]
  },
  {
   "cell_type": "markdown",
   "id": "7b6239a1",
   "metadata": {},
   "source": [
    "Agora, iremos exibir algumas informações explorátorias sobre o dataset, dessa maneira, observando que o mesmo está em um bom estado para começarmos a montar o modelo de aprendizado de máquina."
   ]
  },
  {
   "cell_type": "code",
   "execution_count": 8,
   "id": "3595a3df",
   "metadata": {},
   "outputs": [
    {
     "name": "stdout",
     "output_type": "stream",
     "text": [
      "\n",
      "TIPOS DAS VARIÁVEIS:\n",
      "preco              float64\n",
      "vendido              int64\n",
      "idade_do_modelo      int64\n",
      "km_por_ano         float64\n",
      "dtype: object\n"
     ]
    }
   ],
   "source": [
    "# tipo das variáveis\n",
    "print(\"\\nTIPOS DAS VARIÁVEIS:\")\n",
    "print(df.dtypes)"
   ]
  },
  {
   "cell_type": "code",
   "execution_count": 9,
   "id": "4add5493",
   "metadata": {},
   "outputs": [
    {
     "name": "stdout",
     "output_type": "stream",
     "text": [
      "\n",
      "VALORES AUSENTES:\n",
      "km_por_ano         0.0\n",
      "idade_do_modelo    0.0\n",
      "vendido            0.0\n",
      "preco              0.0\n",
      "dtype: float64\n"
     ]
    }
   ],
   "source": [
    "# valores ausentes\n",
    "print(\"\\nVALORES AUSENTES:\")\n",
    "print((df.isnull().sum() / df.shape[0]).sort_values(ascending=False))"
   ]
  },
  {
   "cell_type": "code",
   "execution_count": 10,
   "id": "d2aa945c",
   "metadata": {},
   "outputs": [
    {
     "name": "stdout",
     "output_type": "stream",
     "text": [
      "\n",
      "VALORES ÚNICOS:\n",
      "vendido               2\n",
      "idade_do_modelo      20\n",
      "km_por_ano         7605\n",
      "preco              9997\n",
      "dtype: int64\n"
     ]
    }
   ],
   "source": [
    "# valores únicos\n",
    "print(\"\\nVALORES ÚNICOS:\")\n",
    "print(df.nunique().sort_values())"
   ]
  },
  {
   "cell_type": "markdown",
   "id": "83df6acd",
   "metadata": {},
   "source": [
    "## Avaliando modelos\n",
    "\n",
    "Aqui iremos avaliar alguns modelos que melhor se encaixam na problemática.\n",
    "\n",
    "Primeiramente, iremos destacar algumas constantes que serão utilizadas a partir da célular abaixo."
   ]
  },
  {
   "cell_type": "code",
   "execution_count": 11,
   "id": "eba51337",
   "metadata": {},
   "outputs": [
    {
     "name": "stdout",
     "output_type": "stream",
     "text": [
      "Treinaremos com 7500 elementos e testaremos com 2500 elementos.\n"
     ]
    }
   ],
   "source": [
    "# dados referentes as fetures\n",
    "x = df[[\"preco\", \"idade_do_modelo\",\"km_por_ano\"]]\n",
    "\n",
    "# label com o resultado esperado - classificado\n",
    "y = df[\"vendido\"]\n",
    "\n",
    "# é a semente\n",
    "SEED = 5\n",
    "\n",
    "# definindo a semente para o atributo random_state dos métodos do sklearn\n",
    "np.random.seed(SEED)\n",
    "\n",
    "# dividindo o dataframe em treino/teste\n",
    "treino_x, teste_x, treino_y, teste_y = train_test_split(x, y, test_size = 0.25,\n",
    "                                                         stratify = y)\n",
    "\n",
    "# exibindo\n",
    "print(f'Treinaremos com {len(treino_x)} elementos e testaremos com {len(teste_x)} elementos.')"
   ]
  },
  {
   "cell_type": "markdown",
   "id": "a35738b5",
   "metadata": {},
   "source": [
    "O primeiro modelo a ser testado será o LinearSVC. Basicamente, o que esse algoritmo faz é encontrar uma linha que separe as classes."
   ]
  },
  {
   "cell_type": "code",
   "execution_count": 12,
   "id": "32adff8b",
   "metadata": {},
   "outputs": [
    {
     "name": "stdout",
     "output_type": "stream",
     "text": [
      "A acurácia foi de 48.16%.\n"
     ]
    }
   ],
   "source": [
    "# criando o modelo\n",
    "modelo = LinearSVC(random_state=SEED)\n",
    "\n",
    "# treinando o modelo\n",
    "modelo.fit(treino_x, treino_y)\n",
    "\n",
    "# realizando a previsão\n",
    "previsoes = modelo.predict(teste_x)\n",
    "\n",
    "# medindo a acurácia\n",
    "acuracia = accuracy_score(teste_y, previsoes) * 100\n",
    "\n",
    "# exibindo\n",
    "print(f'A acurácia foi de {acuracia}%.')"
   ]
  },
  {
   "cell_type": "markdown",
   "id": "782f9937",
   "metadata": {},
   "source": [
    "É nítido que o modelo foi mal condicionado, pelo baixo resultado. Entretanto,pode-se verificar um teste utilizando uma técnica de algoritmo base, por meio do `DummyClassifier`. O algoritmo base converte uma coluna deixando somente 0 ou somente 1. Com isso nós implementamos o teste do algoritmo e obtemos o resultado. Como o próprio método nos diz, é burro, ou seja, deve ser utilizado apenas como parâmetro."
   ]
  },
  {
   "cell_type": "code",
   "execution_count": 13,
   "id": "f96ce1c9",
   "metadata": {},
   "outputs": [
    {
     "name": "stdout",
     "output_type": "stream",
     "text": [
      "A acurácia foi de 51.239999999999995%.\n"
     ]
    }
   ],
   "source": [
    "# criando o dummy preservando a seed e a strategy=stratified\n",
    "dummy_stratified = DummyClassifier(random_state=SEED, strategy='stratified')\n",
    "\n",
    "# treinando o dummy\n",
    "dummy_stratified.fit(treino_x, treino_y)\n",
    "\n",
    "# medindo a acurácia\n",
    "acuracia = dummy_stratified.score(teste_x, teste_y) * 100\n",
    "\n",
    "# exibindo\n",
    "print(f'A acurácia foi de {acuracia}%.')"
   ]
  },
  {
   "cell_type": "markdown",
   "id": "446c8efc",
   "metadata": {},
   "source": [
    "Percebe-se que utilizando o tese pelo `dummy` o resultado foi melhor, o que implica que o método LinearSVC não é correto para tratar a problemática. Assim, iremos utilizar o método abaixo com o `StandardScaler`.\n",
    "\n",
    "- `StandardScaler`: Transforma os dados de maneira que tenha média como 0 e desvio padrão como 1. Em resumo, padroniza os dados . A padronização é útil para dados que possuem valores negativos. Ele organiza os dados em uma distribuição normal padrão . É mais útil na classificação do que na regressão ."
   ]
  },
  {
   "cell_type": "code",
   "execution_count": 14,
   "id": "fb5096e6",
   "metadata": {},
   "outputs": [
    {
     "name": "stdout",
     "output_type": "stream",
     "text": [
      "A acurácia foi de 76.6%.\n"
     ]
    }
   ],
   "source": [
    "# criando dados de treino/testes que serão modifcados, por isso 'raw'\n",
    "raw_treino_x, raw_teste_x, treino_y, teste_y = train_test_split(x, y, test_size = 0.25, stratify = y)\n",
    "\n",
    "# criando o standardScaler\n",
    "scaler = StandardScaler()\n",
    "\n",
    "# treinando\n",
    "scaler.fit(raw_treino_x)\n",
    "\n",
    "# realizando a tranformação de cru para os dados que realmente serão utilizados pelo modelo\n",
    "treino_x = scaler.transform(raw_treino_x)\n",
    "teste_x = scaler.transform(raw_teste_x)\n",
    "\n",
    "# importando o modelo\n",
    "modelo = SVC()\n",
    "# treinando\n",
    "modelo.fit(treino_x, treino_y)\n",
    "# predizendo\n",
    "previsoes = modelo.predict(teste_x)\n",
    "# acuracia\n",
    "acuracia = accuracy_score(teste_y, previsoes) * 100\n",
    "\n",
    "# exibindo\n",
    "print(f'A acurácia foi de {acuracia}%.')"
   ]
  },
  {
   "cell_type": "markdown",
   "id": "2a5ed9fe",
   "metadata": {},
   "source": [
    "Também, podemos avaliar utilizando o método de `DecisionTree`."
   ]
  },
  {
   "cell_type": "code",
   "execution_count": 15,
   "id": "eccec352",
   "metadata": {},
   "outputs": [
    {
     "name": "stdout",
     "output_type": "stream",
     "text": [
      "A acurácia foi 79.36%\n"
     ]
    }
   ],
   "source": [
    "# criando dados de treino/testes que serão modifcados, por isso 'raw'\n",
    "raw_treino_x, raw_teste_x, treino_y, teste_y = train_test_split(x, y, test_size = 0.25,stratify = y)\n",
    "\n",
    "# importando o modelo\n",
    "modelo = DecisionTreeClassifier(max_depth=3)\n",
    "# treinamento\n",
    "modelo.fit(raw_treino_x, treino_y)\n",
    "# previsao\n",
    "previsoes = modelo.predict(raw_teste_x)\n",
    "# acuracia\n",
    "acuracia = accuracy_score(teste_y, previsoes) * 100\n",
    "\n",
    "# exibindo\n",
    "print(\"A acurácia foi %.2f%%\" % acuracia)"
   ]
  }
 ],
 "metadata": {
  "kernelspec": {
   "display_name": "Python 3.8.2 32-bit",
   "language": "python",
   "name": "python38232bit3faf0ef5fdd14cfc8688d71cb3f22cb2"
  },
  "language_info": {
   "codemirror_mode": {
    "name": "ipython",
    "version": 3
   },
   "file_extension": ".py",
   "mimetype": "text/x-python",
   "name": "python",
   "nbconvert_exporter": "python",
   "pygments_lexer": "ipython3",
   "version": "3.8.2"
  }
 },
 "nbformat": 4,
 "nbformat_minor": 5
}
